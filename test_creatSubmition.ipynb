{
 "cells": [
  {
   "cell_type": "code",
   "execution_count": 1,
   "metadata": {},
   "outputs": [],
   "source": [
    "import numpy as np\n",
    "import pandas as pd\n",
    "import time\n",
    "from sklearn.ensemble import RandomForestClassifier\n",
    "from creatSubmition import creatSubmition"
   ]
  },
  {
   "cell_type": "code",
   "execution_count": 2,
   "metadata": {},
   "outputs": [],
   "source": [
    "start = time.clock()\n",
    "\n",
    "train_features = np.load(\"train_features.npy\")\n",
    "temp = np.load(\"train_labels.npy\")\n",
    "labels = np.ndarray.tolist(temp)\n",
    "\n",
    "test_features = np.load(\"test_features.npy\")"
   ]
  },
  {
   "cell_type": "code",
   "execution_count": 4,
   "metadata": {},
   "outputs": [
    {
     "name": "stdout",
     "output_type": "stream",
     "text": [
      "(10357, 4096)\n",
      "(10222, 4096)\n"
     ]
    }
   ],
   "source": [
    "print(test_features.shape)\n",
    "print(train_features.shape)"
   ]
  },
  {
   "cell_type": "code",
   "execution_count": 5,
   "metadata": {},
   "outputs": [],
   "source": [
    "rf = RandomForestClassifier(n_estimators=100,\n",
    "                            criterion=\"gini\",\n",
    "                            max_depth=None,\n",
    "                            min_samples_split=2,\n",
    "                            min_samples_leaf=1,\n",
    "                            min_weight_fraction_leaf=0.,\n",
    "                            # max_features=\"sqrt\",\n",
    "                            max_features=\"auto\",\n",
    "                            max_leaf_nodes=None,\n",
    "                            min_impurity_decrease=0.,\n",
    "                            min_impurity_split=None,\n",
    "                            bootstrap=True,\n",
    "                            oob_score=False,\n",
    "                            n_jobs=1,\n",
    "                            random_state=None,\n",
    "                            verbose=0,\n",
    "                            warm_start=False,\n",
    "                            class_weight=None)"
   ]
  },
  {
   "cell_type": "code",
   "execution_count": 6,
   "metadata": {},
   "outputs": [
    {
     "name": "stdout",
     "output_type": "stream",
     "text": [
      "\n",
      "Start training RF...\n",
      "\n",
      "training done ! Training Time: 48.422766\n"
     ]
    }
   ],
   "source": [
    "RF_train_start = time.clock()\n",
    "print(\"\\nStart training RF...\")\n",
    "rf.fit(train_features, labels)\n",
    "RF_train_end = time.clock()\n",
    "print(\"\\ntraining done ! Training Time:\", RF_train_end - RF_train_start)"
   ]
  },
  {
   "cell_type": "code",
   "execution_count": 18,
   "metadata": {},
   "outputs": [
    {
     "name": "stdout",
     "output_type": "stream",
     "text": [
      "\n",
      "Start predict...\n",
      "\n",
      "predict done! predict Time: 1.2619390000000053\n"
     ]
    }
   ],
   "source": [
    "RF_test_start = time.clock()\n",
    "print(\"\\nStart predict...\")\n",
    "predict = rf.predict(test_features)\n",
    "print(\"\\npredict done! predict Time:\", time.clock() - RF_test_start)"
   ]
  },
  {
   "cell_type": "code",
   "execution_count": 20,
   "metadata": {},
   "outputs": [
    {
     "name": "stdout",
     "output_type": "stream",
     "text": [
      "<class 'numpy.ndarray'>\n"
     ]
    }
   ],
   "source": [
    "print(type(predict))"
   ]
  },
  {
   "cell_type": "code",
   "execution_count": 21,
   "metadata": {},
   "outputs": [
    {
     "name": "stdout",
     "output_type": "stream",
     "text": [
      "(10357,)\n"
     ]
    }
   ],
   "source": [
    "print(predict.shape)"
   ]
  },
  {
   "cell_type": "code",
   "execution_count": 22,
   "metadata": {},
   "outputs": [],
   "source": [
    "df_predict = pd.DataFrame(predict)"
   ]
  },
  {
   "cell_type": "code",
   "execution_count": 23,
   "metadata": {},
   "outputs": [
    {
     "name": "stdout",
     "output_type": "stream",
     "text": [
      "<class 'pandas.core.frame.DataFrame'>\n"
     ]
    }
   ],
   "source": [
    "print(type(df_predict))"
   ]
  },
  {
   "cell_type": "code",
   "execution_count": 24,
   "metadata": {},
   "outputs": [
    {
     "name": "stdout",
     "output_type": "stream",
     "text": [
      "(10357, 1)\n"
     ]
    }
   ],
   "source": [
    "print(df_predict.shape)"
   ]
  },
  {
   "cell_type": "code",
   "execution_count": 25,
   "metadata": {},
   "outputs": [
    {
     "name": "stdout",
     "output_type": "stream",
     "text": [
      "                                    0\n",
      "0                    japanese_spaniel\n",
      "1                             samoyed\n",
      "2                      english_setter\n",
      "3                                 pug\n",
      "4                               lhasa\n",
      "5                  bedlington_terrier\n",
      "6                  australian_terrier\n",
      "7                             samoyed\n",
      "8                  scottish_deerhound\n",
      "9                      sussex_spaniel\n",
      "10                    tibetan_terrier\n",
      "11                   sealyham_terrier\n",
      "12                       newfoundland\n",
      "13                              cairn\n",
      "14                             beagle\n",
      "15                           leonberg\n",
      "16                        toy_terrier\n",
      "17                 kerry_blue_terrier\n",
      "18                      irish_terrier\n",
      "19                             saluki\n",
      "20                 scottish_deerhound\n",
      "21                     siberian_husky\n",
      "22                   mexican_hairless\n",
      "23                     great_pyrenees\n",
      "24                       irish_setter\n",
      "25                        groenendael\n",
      "26                         bloodhound\n",
      "27                            whippet\n",
      "28                     english_setter\n",
      "29                   lakeland_terrier\n",
      "...                               ...\n",
      "10327                 tibetan_mastiff\n",
      "10328                            chow\n",
      "10329                        pembroke\n",
      "10330               italian_greyhound\n",
      "10331                   silky_terrier\n",
      "10332                   border_collie\n",
      "10333     soft-coated_wheaten_terrier\n",
      "10334                english_springer\n",
      "10335  american_staffordshire_terrier\n",
      "10336         wire-haired_fox_terrier\n",
      "10337                english_foxhound\n",
      "10338                  scotch_terrier\n",
      "10339                          kelpie\n",
      "10340                  dandie_dinmont\n",
      "10341  american_staffordshire_terrier\n",
      "10342                english_springer\n",
      "10343                lakeland_terrier\n",
      "10344                           lhasa\n",
      "10345                           boxer\n",
      "10346                     groenendael\n",
      "10347                           dhole\n",
      "10348              standard_schnauzer\n",
      "10349                        leonberg\n",
      "10350                    irish_setter\n",
      "10351                        leonberg\n",
      "10352                 standard_poodle\n",
      "10353                      weimaraner\n",
      "10354                           dhole\n",
      "10355                        shih-tzu\n",
      "10356                 irish_wolfhound\n",
      "\n",
      "[10357 rows x 1 columns]\n"
     ]
    }
   ],
   "source": [
    "print(df_predict)"
   ]
  },
  {
   "cell_type": "code",
   "execution_count": 29,
   "metadata": {},
   "outputs": [
    {
     "name": "stdout",
     "output_type": "stream",
     "text": [
      "[0]\n"
     ]
    }
   ],
   "source": [
    "print(df_predict.columns.values)"
   ]
  },
  {
   "cell_type": "code",
   "execution_count": 26,
   "metadata": {},
   "outputs": [],
   "source": [
    "df_train = pd.read_csv(\"./labels.csv\")\n",
    "df_test = pd.read_csv('./sample_submission.csv')"
   ]
  },
  {
   "cell_type": "code",
   "execution_count": 31,
   "metadata": {},
   "outputs": [],
   "source": [
    "df_predict.columns = ['predict']"
   ]
  },
  {
   "cell_type": "code",
   "execution_count": 32,
   "metadata": {},
   "outputs": [
    {
     "name": "stdout",
     "output_type": "stream",
     "text": [
      "                              predict\n",
      "0                    japanese_spaniel\n",
      "1                             samoyed\n",
      "2                      english_setter\n",
      "3                                 pug\n",
      "4                               lhasa\n",
      "5                  bedlington_terrier\n",
      "6                  australian_terrier\n",
      "7                             samoyed\n",
      "8                  scottish_deerhound\n",
      "9                      sussex_spaniel\n",
      "10                    tibetan_terrier\n",
      "11                   sealyham_terrier\n",
      "12                       newfoundland\n",
      "13                              cairn\n",
      "14                             beagle\n",
      "15                           leonberg\n",
      "16                        toy_terrier\n",
      "17                 kerry_blue_terrier\n",
      "18                      irish_terrier\n",
      "19                             saluki\n",
      "20                 scottish_deerhound\n",
      "21                     siberian_husky\n",
      "22                   mexican_hairless\n",
      "23                     great_pyrenees\n",
      "24                       irish_setter\n",
      "25                        groenendael\n",
      "26                         bloodhound\n",
      "27                            whippet\n",
      "28                     english_setter\n",
      "29                   lakeland_terrier\n",
      "...                               ...\n",
      "10327                 tibetan_mastiff\n",
      "10328                            chow\n",
      "10329                        pembroke\n",
      "10330               italian_greyhound\n",
      "10331                   silky_terrier\n",
      "10332                   border_collie\n",
      "10333     soft-coated_wheaten_terrier\n",
      "10334                english_springer\n",
      "10335  american_staffordshire_terrier\n",
      "10336         wire-haired_fox_terrier\n",
      "10337                english_foxhound\n",
      "10338                  scotch_terrier\n",
      "10339                          kelpie\n",
      "10340                  dandie_dinmont\n",
      "10341  american_staffordshire_terrier\n",
      "10342                english_springer\n",
      "10343                lakeland_terrier\n",
      "10344                           lhasa\n",
      "10345                           boxer\n",
      "10346                     groenendael\n",
      "10347                           dhole\n",
      "10348              standard_schnauzer\n",
      "10349                        leonberg\n",
      "10350                    irish_setter\n",
      "10351                        leonberg\n",
      "10352                 standard_poodle\n",
      "10353                      weimaraner\n",
      "10354                           dhole\n",
      "10355                        shih-tzu\n",
      "10356                 irish_wolfhound\n",
      "\n",
      "[10357 rows x 1 columns]\n"
     ]
    }
   ],
   "source": [
    "print(df_predict)"
   ]
  },
  {
   "cell_type": "code",
   "execution_count": 35,
   "metadata": {},
   "outputs": [],
   "source": [
    "temp_series = pd.Series(df_predict['predict'])"
   ]
  },
  {
   "cell_type": "code",
   "execution_count": 36,
   "metadata": {},
   "outputs": [
    {
     "name": "stdout",
     "output_type": "stream",
     "text": [
      "<class 'pandas.core.sparse.frame.SparseDataFrame'>\n",
      "(10357, 120)\n"
     ]
    }
   ],
   "source": [
    "one_hot_predict = pd.get_dummies(temp_series, sparse=True)\n",
    "print(type(one_hot_predict))\n",
    "print(one_hot_predict.shape)\n",
    "\n",
    "# Insert the column id from the sample_submission at the start of the data frame\n",
    "one_hot_predict.insert(0, 'id', df_test['id'])\n",
    "one_hot_predict.to_dense().to_csv(\"transfer_learning.csv\", index=False)"
   ]
  },
  {
   "cell_type": "code",
   "execution_count": 37,
   "metadata": {},
   "outputs": [],
   "source": [
    "print(0)"
   ]
  },
  {
   "cell_type": "code",
   "execution_count": 34,
   "metadata": {},
   "outputs": [
    {
     "name": "stdout",
     "output_type": "stream",
     "text": [
      "1\n"
     ]
    }
   ],
   "source": [
    "print(0)"
   ]
  },
  {
   "cell_type": "code",
   "execution_count": null,
   "metadata": {},
   "outputs": [],
   "source": []
  },
  {
   "cell_type": "code",
   "execution_count": null,
   "metadata": {},
   "outputs": [],
   "source": []
  },
  {
   "cell_type": "code",
   "execution_count": null,
   "metadata": {},
   "outputs": [],
   "source": []
  },
  {
   "cell_type": "code",
   "execution_count": null,
   "metadata": {},
   "outputs": [],
   "source": []
  },
  {
   "cell_type": "code",
   "execution_count": null,
   "metadata": {},
   "outputs": [],
   "source": []
  }
 ],
 "metadata": {
  "kernelspec": {
   "display_name": "Python 3",
   "language": "python",
   "name": "python3"
  },
  "language_info": {
   "codemirror_mode": {
    "name": "ipython",
    "version": 3
   },
   "file_extension": ".py",
   "mimetype": "text/x-python",
   "name": "python",
   "nbconvert_exporter": "python",
   "pygments_lexer": "ipython3",
   "version": "3.6.4"
  }
 },
 "nbformat": 4,
 "nbformat_minor": 2
}
